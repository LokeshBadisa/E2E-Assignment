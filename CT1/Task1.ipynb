{
 "cells": [
  {
   "cell_type": "code",
   "execution_count": 1,
   "metadata": {},
   "outputs": [],
   "source": [
    "#Importing the libraries\n",
    "from model import *\n",
    "from train import *\n",
    "from torchsummary import summary\n",
    "device = torch.device(\"cuda\")"
   ]
  },
  {
   "cell_type": "code",
   "execution_count": 2,
   "metadata": {},
   "outputs": [],
   "source": [
    "# Load the model\n",
    "model = resnet15v2()\n",
    "model.load_state_dict(torch.load('weights.pth',map_location='cuda'))\n",
    "model = model.to(device)"
   ]
  },
  {
   "cell_type": "code",
   "execution_count": 5,
   "metadata": {},
   "outputs": [],
   "source": [
    "# Load the data & create the dataloader\n",
    "data, labels = load_data()\n",
    "_, testloader = get_data_loader(data, labels, 512,device)\n",
    "criterion = nn.BCELoss()"
   ]
  },
  {
   "cell_type": "code",
   "execution_count": 6,
   "metadata": {},
   "outputs": [
    {
     "name": "stdout",
     "output_type": "stream",
     "text": [
      "Test accuracy:  73.16666666666667 %\n"
     ]
    }
   ],
   "source": [
    "# Calculate Accuracy\n",
    "test_acc, test_loss = test(model, criterion, testloader)\n",
    "print('Test accuracy: ', test_acc*100,'%')"
   ]
  },
  {
   "cell_type": "markdown",
   "metadata": {},
   "source": [
    "## You can pass the test cases by using the following code. \n",
    "```python\n",
    "var = ...\n",
    "out = model(var)\n",
    "out.argmax(1)\n",
    "```"
   ]
  },
  {
   "cell_type": "code",
   "execution_count": 7,
   "metadata": {},
   "outputs": [
    {
     "name": "stdout",
     "output_type": "stream",
     "text": [
      "----------------------------------------------------------------\n",
      "        Layer (type)               Output Shape         Param #\n",
      "================================================================\n",
      "            Conv2d-1           [-1, 16, 32, 32]             288\n",
      "            Conv2d-2           [-1, 32, 32, 32]           4,608\n",
      "       BatchNorm2d-3           [-1, 32, 32, 32]              64\n",
      "              ReLU-4           [-1, 32, 32, 32]               0\n",
      "         MaxPool2d-5           [-1, 32, 16, 16]               0\n",
      "            Conv2d-6           [-1, 32, 16, 16]           9,216\n",
      "       BatchNorm2d-7           [-1, 32, 16, 16]              64\n",
      "              ReLU-8           [-1, 32, 16, 16]               0\n",
      "            Conv2d-9           [-1, 32, 16, 16]           9,216\n",
      "      BatchNorm2d-10           [-1, 32, 16, 16]              64\n",
      "             ReLU-11           [-1, 32, 16, 16]               0\n",
      "       BasicBlock-12           [-1, 32, 16, 16]               0\n",
      "           Conv2d-13           [-1, 32, 16, 16]           9,216\n",
      "      BatchNorm2d-14           [-1, 32, 16, 16]              64\n",
      "             ReLU-15           [-1, 32, 16, 16]               0\n",
      "           Conv2d-16           [-1, 32, 16, 16]           9,216\n",
      "      BatchNorm2d-17           [-1, 32, 16, 16]              64\n",
      "             ReLU-18           [-1, 32, 16, 16]               0\n",
      "       BasicBlock-19           [-1, 32, 16, 16]               0\n",
      "           Conv2d-20             [-1, 64, 8, 8]          18,432\n",
      "      BatchNorm2d-21             [-1, 64, 8, 8]             128\n",
      "             ReLU-22             [-1, 64, 8, 8]               0\n",
      "           Conv2d-23             [-1, 64, 8, 8]          36,864\n",
      "      BatchNorm2d-24             [-1, 64, 8, 8]             128\n",
      "           Conv2d-25             [-1, 64, 8, 8]           2,048\n",
      "      BatchNorm2d-26             [-1, 64, 8, 8]             128\n",
      "             ReLU-27             [-1, 64, 8, 8]               0\n",
      "       BasicBlock-28             [-1, 64, 8, 8]               0\n",
      "           Conv2d-29             [-1, 64, 8, 8]          36,864\n",
      "      BatchNorm2d-30             [-1, 64, 8, 8]             128\n",
      "             ReLU-31             [-1, 64, 8, 8]               0\n",
      "           Conv2d-32             [-1, 64, 8, 8]          36,864\n",
      "      BatchNorm2d-33             [-1, 64, 8, 8]             128\n",
      "             ReLU-34             [-1, 64, 8, 8]               0\n",
      "       BasicBlock-35             [-1, 64, 8, 8]               0\n",
      "           Conv2d-36            [-1, 128, 4, 4]          73,728\n",
      "      BatchNorm2d-37            [-1, 128, 4, 4]             256\n",
      "             ReLU-38            [-1, 128, 4, 4]               0\n",
      "           Conv2d-39            [-1, 128, 4, 4]         147,456\n",
      "      BatchNorm2d-40            [-1, 128, 4, 4]             256\n",
      "           Conv2d-41            [-1, 128, 4, 4]           8,192\n",
      "      BatchNorm2d-42            [-1, 128, 4, 4]             256\n",
      "             ReLU-43            [-1, 128, 4, 4]               0\n",
      "       BasicBlock-44            [-1, 128, 4, 4]               0\n",
      "           Conv2d-45            [-1, 128, 4, 4]         147,456\n",
      "      BatchNorm2d-46            [-1, 128, 4, 4]             256\n",
      "             ReLU-47            [-1, 128, 4, 4]               0\n",
      "           Conv2d-48            [-1, 128, 4, 4]         147,456\n",
      "      BatchNorm2d-49            [-1, 128, 4, 4]             256\n",
      "             ReLU-50            [-1, 128, 4, 4]               0\n",
      "       BasicBlock-51            [-1, 128, 4, 4]               0\n",
      "AdaptiveAvgPool2d-52            [-1, 128, 1, 1]               0\n",
      "           Linear-53                    [-1, 2]             258\n",
      "          Softmax-54                    [-1, 2]               0\n",
      "================================================================\n",
      "Total params: 699,618\n",
      "Trainable params: 699,618\n",
      "Non-trainable params: 0\n",
      "----------------------------------------------------------------\n",
      "Input size (MB): 0.01\n",
      "Forward/backward pass size (MB): 2.56\n",
      "Params size (MB): 2.67\n",
      "Estimated Total Size (MB): 5.24\n",
      "----------------------------------------------------------------\n"
     ]
    }
   ],
   "source": [
    "# Architecture of the model\n",
    "summary(model, (2, 32, 32))"
   ]
  }
 ],
 "metadata": {
  "kernelspec": {
   "display_name": "qa",
   "language": "python",
   "name": "python3"
  },
  "language_info": {
   "codemirror_mode": {
    "name": "ipython",
    "version": 3
   },
   "file_extension": ".py",
   "mimetype": "text/x-python",
   "name": "python",
   "nbconvert_exporter": "python",
   "pygments_lexer": "ipython3",
   "version": "3.10.13"
  }
 },
 "nbformat": 4,
 "nbformat_minor": 2
}

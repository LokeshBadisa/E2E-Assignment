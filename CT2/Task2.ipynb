{
 "cells": [
  {
   "cell_type": "code",
   "execution_count": 1,
   "metadata": {},
   "outputs": [],
   "source": [
    "#Importing the libraries\n",
    "from model import *\n",
    "from train import *\n",
    "from torchsummary import summary"
   ]
  },
  {
   "cell_type": "code",
   "execution_count": 2,
   "metadata": {},
   "outputs": [],
   "source": [
    "#Dataloader\n",
    "def get_testloader():\n",
    "    X,y = load_data()\n",
    "    _, X_test, _, y_test = train_test_split(X, y, test_size=0.2, random_state=42)\n",
    "    test_data = torch.utils.data.TensorDataset(torch.tensor(X_test), torch.tensor(y_test))  \n",
    "    test_loader = torch.utils.data.DataLoader(test_data, batch_size=512, shuffle=True)\n",
    "\n",
    "    return test_loader"
   ]
  },
  {
   "cell_type": "code",
   "execution_count": 3,
   "metadata": {},
   "outputs": [
    {
     "name": "stderr",
     "output_type": "stream",
     "text": [
      "100%|██████████| 139306/139306 [03:20<00:00, 696.31it/s] \n"
     ]
    },
    {
     "name": "stdout",
     "output_type": "stream",
     "text": [
      "Data Loaded!!\n"
     ]
    }
   ],
   "source": [
    "# Create dataloader\n",
    "test_loader = get_testloader()\n",
    "device = torch.device(\"cuda\" if torch.cuda.is_available() else \"cpu\")"
   ]
  },
  {
   "cell_type": "code",
   "execution_count": null,
   "metadata": {},
   "outputs": [],
   "source": [
    "# Load the model\n",
    "model = VGG().to(device)\n",
    "model.load_state_dict(torch.load('weights.pth',map_location=device))\n",
    "lossfn = nn.CrossEntropyLoss()"
   ]
  },
  {
   "cell_type": "code",
   "execution_count": 5,
   "metadata": {},
   "outputs": [
    {
     "name": "stdout",
     "output_type": "stream",
     "text": [
      "Test accuracy: 73.70253391716317%\n"
     ]
    }
   ],
   "source": [
    "# Calculate Accuracy\n",
    "acc, test_loss = test_model(test_loader, model, lossfn, device)\n",
    "print(f\"Test accuracy: {acc*100}%\")"
   ]
  },
  {
   "cell_type": "markdown",
   "metadata": {},
   "source": [
    "## You can test the solution with the following code\n",
    "\n",
    "```python3\n",
    "var = ...\n",
    "out = model(var)\n",
    "out.argmax(1)\n",
    "```"
   ]
  },
  {
   "cell_type": "code",
   "execution_count": 6,
   "metadata": {},
   "outputs": [
    {
     "name": "stdout",
     "output_type": "stream",
     "text": [
      "----------------------------------------------------------------\n",
      "        Layer (type)               Output Shape         Param #\n",
      "================================================================\n",
      "            Conv2d-1          [-1, 8, 125, 125]             224\n",
      "              ReLU-2          [-1, 8, 125, 125]               0\n",
      "            Conv2d-3         [-1, 16, 125, 125]           1,168\n",
      "              ReLU-4         [-1, 16, 125, 125]               0\n",
      "         MaxPool2d-5           [-1, 16, 62, 62]               0\n",
      "            Conv2d-6           [-1, 16, 62, 62]           2,320\n",
      "              ReLU-7           [-1, 16, 62, 62]               0\n",
      "            Conv2d-8           [-1, 16, 62, 62]           2,320\n",
      "              ReLU-9           [-1, 16, 62, 62]               0\n",
      "        MaxPool2d-10           [-1, 16, 31, 31]               0\n",
      "           Conv2d-11           [-1, 32, 31, 31]           4,640\n",
      "             ReLU-12           [-1, 32, 31, 31]               0\n",
      "           Conv2d-13           [-1, 32, 31, 31]           9,248\n",
      "             ReLU-14           [-1, 32, 31, 31]               0\n",
      "           Conv2d-15           [-1, 32, 31, 31]           9,248\n",
      "             ReLU-16           [-1, 32, 31, 31]               0\n",
      "        MaxPool2d-17           [-1, 32, 15, 15]               0\n",
      "           Conv2d-18          [-1, 256, 15, 15]          73,984\n",
      "             ReLU-19          [-1, 256, 15, 15]               0\n",
      "           Conv2d-20          [-1, 256, 15, 15]         590,080\n",
      "             ReLU-21          [-1, 256, 15, 15]               0\n",
      "           Conv2d-22          [-1, 512, 15, 15]       1,180,160\n",
      "             ReLU-23          [-1, 512, 15, 15]               0\n",
      "        MaxPool2d-24            [-1, 512, 7, 7]               0\n",
      "           Conv2d-25            [-1, 512, 7, 7]       2,359,808\n",
      "        MaxPool2d-26            [-1, 512, 3, 3]               0\n",
      "           Linear-27                    [-1, 2]           9,218\n",
      "================================================================\n",
      "Total params: 4,242,418\n",
      "Trainable params: 4,242,418\n",
      "Non-trainable params: 0\n",
      "----------------------------------------------------------------\n",
      "Input size (MB): 0.18\n",
      "Forward/backward pass size (MB): 13.58\n",
      "Params size (MB): 16.18\n",
      "Estimated Total Size (MB): 29.94\n",
      "----------------------------------------------------------------\n"
     ]
    }
   ],
   "source": [
    "summary(model,(3,125,125))"
   ]
  }
 ],
 "metadata": {
  "kernelspec": {
   "display_name": "lokesh",
   "language": "python",
   "name": "python3"
  },
  "language_info": {
   "codemirror_mode": {
    "name": "ipython",
    "version": 3
   },
   "file_extension": ".py",
   "mimetype": "text/x-python",
   "name": "python",
   "nbconvert_exporter": "python",
   "pygments_lexer": "ipython3",
   "version": "3.10.13"
  }
 },
 "nbformat": 4,
 "nbformat_minor": 2
}

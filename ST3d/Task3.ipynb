{
 "cells": [
  {
   "cell_type": "code",
   "execution_count": 13,
   "metadata": {},
   "outputs": [],
   "source": [
    "from afinetune import *"
   ]
  },
  {
   "cell_type": "code",
   "execution_count": 2,
   "metadata": {},
   "outputs": [],
   "source": [
    "def load_data():\n",
    "    data = h5py.File('Dataset_Specific_labelled.h5', 'r')  \n",
    "    X = data['jet'][...]\n",
    "    y = data['Y'][...]\n",
    "    y = np.squeeze(y)\n",
    "    X = rearrange(X, 'b h w c -> b c h w')\n",
    "    yt = np.zeros((y.shape[0],2))\n",
    "    yt[:,0] = 1 - y\n",
    "    yt[:,1] = y\n",
    "    y = yt\n",
    "    _, X_test, _, y_test = train_test_split(X, y, test_size=0.2, random_state=42)    \n",
    "    testset = TensorDataset(torch.tensor(X_test,dtype=torch.float32), torch.tensor(y_test,dtype=torch.float32))\n",
    "    testloader = DataLoader(testset, batch_size=512, shuffle=True)\n",
    "    return testloader"
   ]
  },
  {
   "cell_type": "code",
   "execution_count": 3,
   "metadata": {},
   "outputs": [],
   "source": [
    "device = torch.device('cuda' if torch.cuda.is_available() else 'cpu')\n",
    "criterion = nn.CrossEntropyLoss()\n",
    "model = FineTuneModel()\n",
    "model.load_state_dict(torch.load('first/model_finetuned.pth'))\n",
    "model.to(device)\n",
    "\n",
    "testloader = load_data()"
   ]
  },
  {
   "cell_type": "code",
   "execution_count": 20,
   "metadata": {},
   "outputs": [],
   "source": [
    "def test_model(dataloader, model, lossfn, device):  \n",
    "    model.eval()\n",
    "    correct = 0\n",
    "    total = 0\n",
    "    total_loss = 0\n",
    "    with torch.no_grad():\n",
    "        for data in dataloader:\n",
    "            inputs, labels = data\n",
    "            inputs, labels = inputs.to(device).float(), labels.to(device).float()\n",
    "            outputs = model(inputs)\n",
    "            loss = lossfn(outputs, labels)\n",
    "            total += labels.size(0)\n",
    "            outputs = outputs.argmax(dim=1)\n",
    "            labels = labels.argmax(dim=1)\n",
    "            correct += (outputs == labels).sum().item()\n",
    "            total_loss += loss.item()\n",
    "    return correct / total , total_loss"
   ]
  },
  {
   "cell_type": "code",
   "execution_count": 21,
   "metadata": {},
   "outputs": [
    {
     "name": "stdout",
     "output_type": "stream",
     "text": [
      "Accuracy:  78.45 %\n"
     ]
    }
   ],
   "source": [
    "acc, _ = test_model(testloader, model, criterion, device)\n",
    "print(\"Accuracy: \", acc*100, \"%\")"
   ]
  }
 ],
 "metadata": {
  "kernelspec": {
   "display_name": "lokesh",
   "language": "python",
   "name": "python3"
  },
  "language_info": {
   "codemirror_mode": {
    "name": "ipython",
    "version": 3
   },
   "file_extension": ".py",
   "mimetype": "text/x-python",
   "name": "python",
   "nbconvert_exporter": "python",
   "pygments_lexer": "ipython3",
   "version": "3.11.4"
  }
 },
 "nbformat": 4,
 "nbformat_minor": 2
}
